{
  "nbformat": 4,
  "nbformat_minor": 0,
  "metadata": {
    "colab": {
      "provenance": [],
      "toc_visible": true,
      "authorship_tag": "ABX9TyPMvmboVJnYKN54zlpTsWse",
      "include_colab_link": true
    },
    "kernelspec": {
      "name": "python3",
      "display_name": "Python 3"
    },
    "language_info": {
      "name": "python"
    }
  },
  "cells": [
    {
      "cell_type": "markdown",
      "metadata": {
        "id": "view-in-github",
        "colab_type": "text"
      },
      "source": [
        "<a href=\"https://colab.research.google.com/github/RicMePa/Public/blob/main/DS_C2_SC2_RICARDOMENDOZAPALOMINO.ipynb\" target=\"_parent\"><img src=\"https://colab.research.google.com/assets/colab-badge.svg\" alt=\"Open In Colab\"/></a>"
      ]
    },
    {
      "cell_type": "markdown",
      "source": [
        "CERTIFICACIÓN DATA SCIENTIST\n",
        "\n",
        "# RETO MÓDULO 5. Panda y Numpy en Python\n",
        "\n",
        "**Ricardo Mendoza Palomino **"
      ],
      "metadata": {
        "id": "0Ca-aX-TRfRQ"
      }
    },
    {
      "cell_type": "markdown",
      "source": [
        "Para completar la solución del reto deberás cumplir con todos los puntos listados a continuación:  \n",
        "\n",
        "Descarga el archivo country_vaccinations.csv de Kaggle. En https://www.kaggle.com/gpreda/covid-world-vaccination-progress\n",
        "\n",
        "*   Abre el archivo con MS Excel para familiarizarte con los datos que contiene.\n",
        "*   Genera una libreta en Google Colab para resolver el reto con scripts de Python.\n",
        "*   Para cada uno de los siguientes requerimientos, incluye una sección de texto (especificando el enunciado) y una sección de código para la solución de:"
      ],
      "metadata": {
        "id": "g_azF_RyRe5L"
      }
    },
    {
      "cell_type": "markdown",
      "source": [
        "##a. Extraer la información del archivo"
      ],
      "metadata": {
        "id": "GSk2KHDTSecU"
      }
    },
    {
      "cell_type": "code",
      "execution_count": 2,
      "metadata": {
        "id": "n-DPficjPO2N",
        "colab": {
          "base_uri": "https://localhost:8080/",
          "height": 417
        },
        "outputId": "71b67509-a3e7-4ab7-849e-9e1e5183272d"
      },
      "outputs": [
        {
          "output_type": "stream",
          "name": "stdout",
          "text": [
            "Mounted at /content/drive\n"
          ]
        },
        {
          "output_type": "execute_result",
          "data": {
            "text/plain": [
              "       country iso_code        date  total_vaccinations  people_vaccinated  \\\n",
              "0  Afghanistan      AFG  22/02/2021                 0.0                0.0   \n",
              "1  Afghanistan      AFG  23/02/2021                 NaN                NaN   \n",
              "2  Afghanistan      AFG  24/02/2021                 NaN                NaN   \n",
              "3  Afghanistan      AFG  25/02/2021                 NaN                NaN   \n",
              "4  Afghanistan      AFG  26/02/2021                 NaN                NaN   \n",
              "\n",
              "   people_fully_vaccinated  daily_vaccinations_raw  daily_vaccinations  \\\n",
              "0                      NaN                     NaN                 NaN   \n",
              "1                      NaN                     NaN              1367.0   \n",
              "2                      NaN                     NaN              1367.0   \n",
              "3                      NaN                     NaN              1367.0   \n",
              "4                      NaN                     NaN              1367.0   \n",
              "\n",
              "   total_vaccinations_per_hundred  people_vaccinated_per_hundred  \\\n",
              "0                             0.0                            0.0   \n",
              "1                             NaN                            NaN   \n",
              "2                             NaN                            NaN   \n",
              "3                             NaN                            NaN   \n",
              "4                             NaN                            NaN   \n",
              "\n",
              "   people_fully_vaccinated_per_hundred  daily_vaccinations_per_million  \\\n",
              "0                                  NaN                             NaN   \n",
              "1                                  NaN                            34.0   \n",
              "2                                  NaN                            34.0   \n",
              "3                                  NaN                            34.0   \n",
              "4                                  NaN                            34.0   \n",
              "\n",
              "                                            vaccines  \\\n",
              "0  Johnson&Johnson, Oxford/AstraZeneca, Pfizer/Bi...   \n",
              "1  Johnson&Johnson, Oxford/AstraZeneca, Pfizer/Bi...   \n",
              "2  Johnson&Johnson, Oxford/AstraZeneca, Pfizer/Bi...   \n",
              "3  Johnson&Johnson, Oxford/AstraZeneca, Pfizer/Bi...   \n",
              "4  Johnson&Johnson, Oxford/AstraZeneca, Pfizer/Bi...   \n",
              "\n",
              "                 source_name            source_website  \n",
              "0  World Health Organization  https://covid19.who.int/  \n",
              "1  World Health Organization  https://covid19.who.int/  \n",
              "2  World Health Organization  https://covid19.who.int/  \n",
              "3  World Health Organization  https://covid19.who.int/  \n",
              "4  World Health Organization  https://covid19.who.int/  "
            ],
            "text/html": [
              "\n",
              "  <div id=\"df-932ce43d-da1a-49ad-8b94-39082f8648b0\" class=\"colab-df-container\">\n",
              "    <div>\n",
              "<style scoped>\n",
              "    .dataframe tbody tr th:only-of-type {\n",
              "        vertical-align: middle;\n",
              "    }\n",
              "\n",
              "    .dataframe tbody tr th {\n",
              "        vertical-align: top;\n",
              "    }\n",
              "\n",
              "    .dataframe thead th {\n",
              "        text-align: right;\n",
              "    }\n",
              "</style>\n",
              "<table border=\"1\" class=\"dataframe\">\n",
              "  <thead>\n",
              "    <tr style=\"text-align: right;\">\n",
              "      <th></th>\n",
              "      <th>country</th>\n",
              "      <th>iso_code</th>\n",
              "      <th>date</th>\n",
              "      <th>total_vaccinations</th>\n",
              "      <th>people_vaccinated</th>\n",
              "      <th>people_fully_vaccinated</th>\n",
              "      <th>daily_vaccinations_raw</th>\n",
              "      <th>daily_vaccinations</th>\n",
              "      <th>total_vaccinations_per_hundred</th>\n",
              "      <th>people_vaccinated_per_hundred</th>\n",
              "      <th>people_fully_vaccinated_per_hundred</th>\n",
              "      <th>daily_vaccinations_per_million</th>\n",
              "      <th>vaccines</th>\n",
              "      <th>source_name</th>\n",
              "      <th>source_website</th>\n",
              "    </tr>\n",
              "  </thead>\n",
              "  <tbody>\n",
              "    <tr>\n",
              "      <th>0</th>\n",
              "      <td>Afghanistan</td>\n",
              "      <td>AFG</td>\n",
              "      <td>22/02/2021</td>\n",
              "      <td>0.0</td>\n",
              "      <td>0.0</td>\n",
              "      <td>NaN</td>\n",
              "      <td>NaN</td>\n",
              "      <td>NaN</td>\n",
              "      <td>0.0</td>\n",
              "      <td>0.0</td>\n",
              "      <td>NaN</td>\n",
              "      <td>NaN</td>\n",
              "      <td>Johnson&amp;Johnson, Oxford/AstraZeneca, Pfizer/Bi...</td>\n",
              "      <td>World Health Organization</td>\n",
              "      <td>https://covid19.who.int/</td>\n",
              "    </tr>\n",
              "    <tr>\n",
              "      <th>1</th>\n",
              "      <td>Afghanistan</td>\n",
              "      <td>AFG</td>\n",
              "      <td>23/02/2021</td>\n",
              "      <td>NaN</td>\n",
              "      <td>NaN</td>\n",
              "      <td>NaN</td>\n",
              "      <td>NaN</td>\n",
              "      <td>1367.0</td>\n",
              "      <td>NaN</td>\n",
              "      <td>NaN</td>\n",
              "      <td>NaN</td>\n",
              "      <td>34.0</td>\n",
              "      <td>Johnson&amp;Johnson, Oxford/AstraZeneca, Pfizer/Bi...</td>\n",
              "      <td>World Health Organization</td>\n",
              "      <td>https://covid19.who.int/</td>\n",
              "    </tr>\n",
              "    <tr>\n",
              "      <th>2</th>\n",
              "      <td>Afghanistan</td>\n",
              "      <td>AFG</td>\n",
              "      <td>24/02/2021</td>\n",
              "      <td>NaN</td>\n",
              "      <td>NaN</td>\n",
              "      <td>NaN</td>\n",
              "      <td>NaN</td>\n",
              "      <td>1367.0</td>\n",
              "      <td>NaN</td>\n",
              "      <td>NaN</td>\n",
              "      <td>NaN</td>\n",
              "      <td>34.0</td>\n",
              "      <td>Johnson&amp;Johnson, Oxford/AstraZeneca, Pfizer/Bi...</td>\n",
              "      <td>World Health Organization</td>\n",
              "      <td>https://covid19.who.int/</td>\n",
              "    </tr>\n",
              "    <tr>\n",
              "      <th>3</th>\n",
              "      <td>Afghanistan</td>\n",
              "      <td>AFG</td>\n",
              "      <td>25/02/2021</td>\n",
              "      <td>NaN</td>\n",
              "      <td>NaN</td>\n",
              "      <td>NaN</td>\n",
              "      <td>NaN</td>\n",
              "      <td>1367.0</td>\n",
              "      <td>NaN</td>\n",
              "      <td>NaN</td>\n",
              "      <td>NaN</td>\n",
              "      <td>34.0</td>\n",
              "      <td>Johnson&amp;Johnson, Oxford/AstraZeneca, Pfizer/Bi...</td>\n",
              "      <td>World Health Organization</td>\n",
              "      <td>https://covid19.who.int/</td>\n",
              "    </tr>\n",
              "    <tr>\n",
              "      <th>4</th>\n",
              "      <td>Afghanistan</td>\n",
              "      <td>AFG</td>\n",
              "      <td>26/02/2021</td>\n",
              "      <td>NaN</td>\n",
              "      <td>NaN</td>\n",
              "      <td>NaN</td>\n",
              "      <td>NaN</td>\n",
              "      <td>1367.0</td>\n",
              "      <td>NaN</td>\n",
              "      <td>NaN</td>\n",
              "      <td>NaN</td>\n",
              "      <td>34.0</td>\n",
              "      <td>Johnson&amp;Johnson, Oxford/AstraZeneca, Pfizer/Bi...</td>\n",
              "      <td>World Health Organization</td>\n",
              "      <td>https://covid19.who.int/</td>\n",
              "    </tr>\n",
              "  </tbody>\n",
              "</table>\n",
              "</div>\n",
              "    <div class=\"colab-df-buttons\">\n",
              "\n",
              "  <div class=\"colab-df-container\">\n",
              "    <button class=\"colab-df-convert\" onclick=\"convertToInteractive('df-932ce43d-da1a-49ad-8b94-39082f8648b0')\"\n",
              "            title=\"Convert this dataframe to an interactive table.\"\n",
              "            style=\"display:none;\">\n",
              "\n",
              "  <svg xmlns=\"http://www.w3.org/2000/svg\" height=\"24px\" viewBox=\"0 -960 960 960\">\n",
              "    <path d=\"M120-120v-720h720v720H120Zm60-500h600v-160H180v160Zm220 220h160v-160H400v160Zm0 220h160v-160H400v160ZM180-400h160v-160H180v160Zm440 0h160v-160H620v160ZM180-180h160v-160H180v160Zm440 0h160v-160H620v160Z\"/>\n",
              "  </svg>\n",
              "    </button>\n",
              "\n",
              "  <style>\n",
              "    .colab-df-container {\n",
              "      display:flex;\n",
              "      gap: 12px;\n",
              "    }\n",
              "\n",
              "    .colab-df-convert {\n",
              "      background-color: #E8F0FE;\n",
              "      border: none;\n",
              "      border-radius: 50%;\n",
              "      cursor: pointer;\n",
              "      display: none;\n",
              "      fill: #1967D2;\n",
              "      height: 32px;\n",
              "      padding: 0 0 0 0;\n",
              "      width: 32px;\n",
              "    }\n",
              "\n",
              "    .colab-df-convert:hover {\n",
              "      background-color: #E2EBFA;\n",
              "      box-shadow: 0px 1px 2px rgba(60, 64, 67, 0.3), 0px 1px 3px 1px rgba(60, 64, 67, 0.15);\n",
              "      fill: #174EA6;\n",
              "    }\n",
              "\n",
              "    .colab-df-buttons div {\n",
              "      margin-bottom: 4px;\n",
              "    }\n",
              "\n",
              "    [theme=dark] .colab-df-convert {\n",
              "      background-color: #3B4455;\n",
              "      fill: #D2E3FC;\n",
              "    }\n",
              "\n",
              "    [theme=dark] .colab-df-convert:hover {\n",
              "      background-color: #434B5C;\n",
              "      box-shadow: 0px 1px 3px 1px rgba(0, 0, 0, 0.15);\n",
              "      filter: drop-shadow(0px 1px 2px rgba(0, 0, 0, 0.3));\n",
              "      fill: #FFFFFF;\n",
              "    }\n",
              "  </style>\n",
              "\n",
              "    <script>\n",
              "      const buttonEl =\n",
              "        document.querySelector('#df-932ce43d-da1a-49ad-8b94-39082f8648b0 button.colab-df-convert');\n",
              "      buttonEl.style.display =\n",
              "        google.colab.kernel.accessAllowed ? 'block' : 'none';\n",
              "\n",
              "      async function convertToInteractive(key) {\n",
              "        const element = document.querySelector('#df-932ce43d-da1a-49ad-8b94-39082f8648b0');\n",
              "        const dataTable =\n",
              "          await google.colab.kernel.invokeFunction('convertToInteractive',\n",
              "                                                    [key], {});\n",
              "        if (!dataTable) return;\n",
              "\n",
              "        const docLinkHtml = 'Like what you see? Visit the ' +\n",
              "          '<a target=\"_blank\" href=https://colab.research.google.com/notebooks/data_table.ipynb>data table notebook</a>'\n",
              "          + ' to learn more about interactive tables.';\n",
              "        element.innerHTML = '';\n",
              "        dataTable['output_type'] = 'display_data';\n",
              "        await google.colab.output.renderOutput(dataTable, element);\n",
              "        const docLink = document.createElement('div');\n",
              "        docLink.innerHTML = docLinkHtml;\n",
              "        element.appendChild(docLink);\n",
              "      }\n",
              "    </script>\n",
              "  </div>\n",
              "\n",
              "\n",
              "<div id=\"df-3477a11f-235d-4293-b590-509db30caff4\">\n",
              "  <button class=\"colab-df-quickchart\" onclick=\"quickchart('df-3477a11f-235d-4293-b590-509db30caff4')\"\n",
              "            title=\"Suggest charts\"\n",
              "            style=\"display:none;\">\n",
              "\n",
              "<svg xmlns=\"http://www.w3.org/2000/svg\" height=\"24px\"viewBox=\"0 0 24 24\"\n",
              "     width=\"24px\">\n",
              "    <g>\n",
              "        <path d=\"M19 3H5c-1.1 0-2 .9-2 2v14c0 1.1.9 2 2 2h14c1.1 0 2-.9 2-2V5c0-1.1-.9-2-2-2zM9 17H7v-7h2v7zm4 0h-2V7h2v10zm4 0h-2v-4h2v4z\"/>\n",
              "    </g>\n",
              "</svg>\n",
              "  </button>\n",
              "\n",
              "<style>\n",
              "  .colab-df-quickchart {\n",
              "      --bg-color: #E8F0FE;\n",
              "      --fill-color: #1967D2;\n",
              "      --hover-bg-color: #E2EBFA;\n",
              "      --hover-fill-color: #174EA6;\n",
              "      --disabled-fill-color: #AAA;\n",
              "      --disabled-bg-color: #DDD;\n",
              "  }\n",
              "\n",
              "  [theme=dark] .colab-df-quickchart {\n",
              "      --bg-color: #3B4455;\n",
              "      --fill-color: #D2E3FC;\n",
              "      --hover-bg-color: #434B5C;\n",
              "      --hover-fill-color: #FFFFFF;\n",
              "      --disabled-bg-color: #3B4455;\n",
              "      --disabled-fill-color: #666;\n",
              "  }\n",
              "\n",
              "  .colab-df-quickchart {\n",
              "    background-color: var(--bg-color);\n",
              "    border: none;\n",
              "    border-radius: 50%;\n",
              "    cursor: pointer;\n",
              "    display: none;\n",
              "    fill: var(--fill-color);\n",
              "    height: 32px;\n",
              "    padding: 0;\n",
              "    width: 32px;\n",
              "  }\n",
              "\n",
              "  .colab-df-quickchart:hover {\n",
              "    background-color: var(--hover-bg-color);\n",
              "    box-shadow: 0 1px 2px rgba(60, 64, 67, 0.3), 0 1px 3px 1px rgba(60, 64, 67, 0.15);\n",
              "    fill: var(--button-hover-fill-color);\n",
              "  }\n",
              "\n",
              "  .colab-df-quickchart-complete:disabled,\n",
              "  .colab-df-quickchart-complete:disabled:hover {\n",
              "    background-color: var(--disabled-bg-color);\n",
              "    fill: var(--disabled-fill-color);\n",
              "    box-shadow: none;\n",
              "  }\n",
              "\n",
              "  .colab-df-spinner {\n",
              "    border: 2px solid var(--fill-color);\n",
              "    border-color: transparent;\n",
              "    border-bottom-color: var(--fill-color);\n",
              "    animation:\n",
              "      spin 1s steps(1) infinite;\n",
              "  }\n",
              "\n",
              "  @keyframes spin {\n",
              "    0% {\n",
              "      border-color: transparent;\n",
              "      border-bottom-color: var(--fill-color);\n",
              "      border-left-color: var(--fill-color);\n",
              "    }\n",
              "    20% {\n",
              "      border-color: transparent;\n",
              "      border-left-color: var(--fill-color);\n",
              "      border-top-color: var(--fill-color);\n",
              "    }\n",
              "    30% {\n",
              "      border-color: transparent;\n",
              "      border-left-color: var(--fill-color);\n",
              "      border-top-color: var(--fill-color);\n",
              "      border-right-color: var(--fill-color);\n",
              "    }\n",
              "    40% {\n",
              "      border-color: transparent;\n",
              "      border-right-color: var(--fill-color);\n",
              "      border-top-color: var(--fill-color);\n",
              "    }\n",
              "    60% {\n",
              "      border-color: transparent;\n",
              "      border-right-color: var(--fill-color);\n",
              "    }\n",
              "    80% {\n",
              "      border-color: transparent;\n",
              "      border-right-color: var(--fill-color);\n",
              "      border-bottom-color: var(--fill-color);\n",
              "    }\n",
              "    90% {\n",
              "      border-color: transparent;\n",
              "      border-bottom-color: var(--fill-color);\n",
              "    }\n",
              "  }\n",
              "</style>\n",
              "\n",
              "  <script>\n",
              "    async function quickchart(key) {\n",
              "      const quickchartButtonEl =\n",
              "        document.querySelector('#' + key + ' button');\n",
              "      quickchartButtonEl.disabled = true;  // To prevent multiple clicks.\n",
              "      quickchartButtonEl.classList.add('colab-df-spinner');\n",
              "      try {\n",
              "        const charts = await google.colab.kernel.invokeFunction(\n",
              "            'suggestCharts', [key], {});\n",
              "      } catch (error) {\n",
              "        console.error('Error during call to suggestCharts:', error);\n",
              "      }\n",
              "      quickchartButtonEl.classList.remove('colab-df-spinner');\n",
              "      quickchartButtonEl.classList.add('colab-df-quickchart-complete');\n",
              "    }\n",
              "    (() => {\n",
              "      let quickchartButtonEl =\n",
              "        document.querySelector('#df-3477a11f-235d-4293-b590-509db30caff4 button');\n",
              "      quickchartButtonEl.style.display =\n",
              "        google.colab.kernel.accessAllowed ? 'block' : 'none';\n",
              "    })();\n",
              "  </script>\n",
              "</div>\n",
              "\n",
              "    </div>\n",
              "  </div>\n"
            ],
            "application/vnd.google.colaboratory.intrinsic+json": {
              "type": "dataframe",
              "variable_name": "df_vac",
              "summary": "{\n  \"name\": \"df_vac\",\n  \"rows\": 86512,\n  \"fields\": [\n    {\n      \"column\": \"country\",\n      \"properties\": {\n        \"dtype\": \"category\",\n        \"num_unique_values\": 223,\n        \"samples\": [\n          \"Aruba\",\n          \"Guinea-Bissau\",\n          \"Luxembourg\"\n        ],\n        \"semantic_type\": \"\",\n        \"description\": \"\"\n      }\n    },\n    {\n      \"column\": \"iso_code\",\n      \"properties\": {\n        \"dtype\": \"category\",\n        \"num_unique_values\": 223,\n        \"samples\": [\n          \"ABW\",\n          \"GNB\",\n          \"LUX\"\n        ],\n        \"semantic_type\": \"\",\n        \"description\": \"\"\n      }\n    },\n    {\n      \"column\": \"date\",\n      \"properties\": {\n        \"dtype\": \"object\",\n        \"num_unique_values\": 483,\n        \"samples\": [\n          \"02/02/2021\",\n          \"10/12/2020\",\n          \"22/08/2021\"\n        ],\n        \"semantic_type\": \"\",\n        \"description\": \"\"\n      }\n    },\n    {\n      \"column\": \"total_vaccinations\",\n      \"properties\": {\n        \"dtype\": \"number\",\n        \"std\": 224600360.18166596,\n        \"min\": 0.0,\n        \"max\": 3263129000.0,\n        \"num_unique_values\": 42828,\n        \"samples\": [\n          17982751.0,\n          50826.0,\n          1419498.0\n        ],\n        \"semantic_type\": \"\",\n        \"description\": \"\"\n      }\n    },\n    {\n      \"column\": \"people_vaccinated\",\n      \"properties\": {\n        \"dtype\": \"number\",\n        \"std\": 70787311.50047565,\n        \"min\": 0.0,\n        \"max\": 1275541000.0,\n        \"num_unique_values\": 40194,\n        \"samples\": [\n          8504966.0,\n          887705.0,\n          1093121.0\n        ],\n        \"semantic_type\": \"\",\n        \"description\": \"\"\n      }\n    },\n    {\n      \"column\": \"people_fully_vaccinated\",\n      \"properties\": {\n        \"dtype\": \"number\",\n        \"std\": 57139201.71915905,\n        \"min\": 1.0,\n        \"max\": 1240777000.0,\n        \"num_unique_values\": 37425,\n        \"samples\": [\n          8643043.0,\n          3948592.0,\n          3813116.0\n        ],\n        \"semantic_type\": \"\",\n        \"description\": \"\"\n      }\n    },\n    {\n      \"column\": \"daily_vaccinations_raw\",\n      \"properties\": {\n        \"dtype\": \"number\",\n        \"std\": 1212426.6019538937,\n        \"min\": 0.0,\n        \"max\": 24741000.0,\n        \"num_unique_values\": 27692,\n        \"samples\": [\n          159121.0,\n          27901.0,\n          137551.0\n        ],\n        \"semantic_type\": \"\",\n        \"description\": \"\"\n      }\n    },\n    {\n      \"column\": \"daily_vaccinations\",\n      \"properties\": {\n        \"dtype\": \"number\",\n        \"std\": 768238.7732930377,\n        \"min\": 0.0,\n        \"max\": 22424286.0,\n        \"num_unique_values\": 40516,\n        \"samples\": [\n          384011.0,\n          35517.0,\n          66450.0\n        ],\n        \"semantic_type\": \"\",\n        \"description\": \"\"\n      }\n    },\n    {\n      \"column\": \"total_vaccinations_per_hundred\",\n      \"properties\": {\n        \"dtype\": \"number\",\n        \"std\": 67.91357674747664,\n        \"min\": 0.0,\n        \"max\": 345.37,\n        \"num_unique_values\": 17881,\n        \"samples\": [\n          140.62,\n          131.67,\n          203.29\n        ],\n        \"semantic_type\": \"\",\n        \"description\": \"\"\n      }\n    },\n    {\n      \"column\": \"people_vaccinated_per_hundred\",\n      \"properties\": {\n        \"dtype\": \"number\",\n        \"std\": 29.29075864533818,\n        \"min\": 0.0,\n        \"max\": 124.76,\n        \"num_unique_values\": 9078,\n        \"samples\": [\n          80.33,\n          72.2,\n          80.82\n        ],\n        \"semantic_type\": \"\",\n        \"description\": \"\"\n      }\n    },\n    {\n      \"column\": \"people_fully_vaccinated_per_hundred\",\n      \"properties\": {\n        \"dtype\": \"number\",\n        \"std\": 28.37625180924757,\n        \"min\": 0.0,\n        \"max\": 122.37,\n        \"num_unique_values\": 8772,\n        \"samples\": [\n          86.62,\n          74.03,\n          18.98\n        ],\n        \"semantic_type\": \"\",\n        \"description\": \"\"\n      }\n    },\n    {\n      \"column\": \"daily_vaccinations_per_million\",\n      \"properties\": {\n        \"dtype\": \"number\",\n        \"std\": 3934.312440105741,\n        \"min\": 0.0,\n        \"max\": 117497.0,\n        \"num_unique_values\": 12405,\n        \"samples\": [\n          8737.0,\n          16055.0,\n          3249.0\n        ],\n        \"semantic_type\": \"\",\n        \"description\": \"\"\n      }\n    },\n    {\n      \"column\": \"vaccines\",\n      \"properties\": {\n        \"dtype\": \"category\",\n        \"num_unique_values\": 84,\n        \"samples\": [\n          \"Medigen, Moderna, Oxford/AstraZeneca, Pfizer/BioNTech\",\n          \"Johnson&Johnson, Oxford/AstraZeneca, Pfizer/BioNTech, Sinopharm/Beijing\",\n          \"CanSino, Oxford/AstraZeneca, Pfizer/BioNTech, Sinopharm/Beijing, Sinovac\"\n        ],\n        \"semantic_type\": \"\",\n        \"description\": \"\"\n      }\n    },\n    {\n      \"column\": \"source_name\",\n      \"properties\": {\n        \"dtype\": \"category\",\n        \"num_unique_values\": 81,\n        \"samples\": [\n          \"Government of Guernsey\",\n          \"World Health Organization\",\n          \"Government of the Faeroe Islands\"\n        ],\n        \"semantic_type\": \"\",\n        \"description\": \"\"\n      }\n    },\n    {\n      \"column\": \"source_website\",\n      \"properties\": {\n        \"dtype\": \"category\",\n        \"num_unique_values\": 119,\n        \"samples\": [\n          \"https://vaccination.moh.gov.jm/\",\n          \"https://www.gov.pl/web/szczepimysie/raport-szczepien-przeciwko-covid-19\",\n          \"https://www.government.aw\"\n        ],\n        \"semantic_type\": \"\",\n        \"description\": \"\"\n      }\n    }\n  ]\n}"
            }
          },
          "metadata": {},
          "execution_count": 2
        }
      ],
      "source": [
        "# Importar de csv\n",
        "from google.colab import drive\n",
        "drive.mount('/content/drive')\n",
        "\n",
        "import pandas as pd\n",
        "df_vac = pd.read_csv('/content/drive/MyDrive/Colab Notebooks/1. Certificación Data Scientist/5. Panda y Numpy en Python/country_vaccinations.csv')\n",
        "df_vac.head(5)"
      ]
    },
    {
      "cell_type": "markdown",
      "source": [
        "## b. Estructura y tipos de datos"
      ],
      "metadata": {
        "id": "CuFCkpyEUjux"
      }
    },
    {
      "cell_type": "markdown",
      "source": [
        "Mostrar la estructura y tipos de datos de cada columna para identificar qué operaciones puedes realizar con cada una de ellas, asegurándote que las columnas con fechas sean del tipo datetime64."
      ],
      "metadata": {
        "id": "RXSVvE3InO3L"
      }
    },
    {
      "cell_type": "code",
      "source": [
        "df_vac.size"
      ],
      "metadata": {
        "colab": {
          "base_uri": "https://localhost:8080/"
        },
        "id": "cFyedMM0W6_6",
        "outputId": "5e272d71-c18a-4968-c3ed-d1a45bbc1cff"
      },
      "execution_count": 8,
      "outputs": [
        {
          "output_type": "execute_result",
          "data": {
            "text/plain": [
              "1297680"
            ]
          },
          "metadata": {},
          "execution_count": 8
        }
      ]
    },
    {
      "cell_type": "code",
      "source": [
        "df_vac.shape"
      ],
      "metadata": {
        "colab": {
          "base_uri": "https://localhost:8080/"
        },
        "id": "f4rPc6d0XKE7",
        "outputId": "545647b9-bcd5-47ce-fcaf-fcb6b88b91bb"
      },
      "execution_count": 9,
      "outputs": [
        {
          "output_type": "execute_result",
          "data": {
            "text/plain": [
              "(86512, 15)"
            ]
          },
          "metadata": {},
          "execution_count": 9
        }
      ]
    },
    {
      "cell_type": "code",
      "source": [
        "# Descripción general del tamaño de la database\n",
        "print(f'El archivo de vacunas contiene {df_vac.shape[0]:,d} filas y {df_vac.shape[1]:,d} columnas, dando un total de {df_vac.size:,d} registros.')"
      ],
      "metadata": {
        "colab": {
          "base_uri": "https://localhost:8080/"
        },
        "id": "ukNdEoeXXY2B",
        "outputId": "728bc7a9-a356-4403-a42b-fdd19b1c837d"
      },
      "execution_count": 59,
      "outputs": [
        {
          "output_type": "stream",
          "name": "stdout",
          "text": [
            "El archivo de vacunas contiene 86,512 filas y 15 columnas, dando un total de 1,297,680 registros.\n"
          ]
        }
      ]
    },
    {
      "cell_type": "code",
      "source": [
        "# Información y tipos de datos\n",
        "df_vac.info()"
      ],
      "metadata": {
        "colab": {
          "base_uri": "https://localhost:8080/"
        },
        "id": "QXNP8-lRTVgf",
        "outputId": "b502736d-01d8-47c7-8c3d-14007e65445e"
      },
      "execution_count": 3,
      "outputs": [
        {
          "output_type": "stream",
          "name": "stdout",
          "text": [
            "<class 'pandas.core.frame.DataFrame'>\n",
            "RangeIndex: 86512 entries, 0 to 86511\n",
            "Data columns (total 15 columns):\n",
            " #   Column                               Non-Null Count  Dtype  \n",
            "---  ------                               --------------  -----  \n",
            " 0   country                              86512 non-null  object \n",
            " 1   iso_code                             86512 non-null  object \n",
            " 2   date                                 86512 non-null  object \n",
            " 3   total_vaccinations                   43607 non-null  float64\n",
            " 4   people_vaccinated                    41294 non-null  float64\n",
            " 5   people_fully_vaccinated              38802 non-null  float64\n",
            " 6   daily_vaccinations_raw               35362 non-null  float64\n",
            " 7   daily_vaccinations                   86213 non-null  float64\n",
            " 8   total_vaccinations_per_hundred       43607 non-null  float64\n",
            " 9   people_vaccinated_per_hundred        41294 non-null  float64\n",
            " 10  people_fully_vaccinated_per_hundred  38802 non-null  float64\n",
            " 11  daily_vaccinations_per_million       86213 non-null  float64\n",
            " 12  vaccines                             86512 non-null  object \n",
            " 13  source_name                          86512 non-null  object \n",
            " 14  source_website                       86512 non-null  object \n",
            "dtypes: float64(9), object(6)\n",
            "memory usage: 9.9+ MB\n"
          ]
        }
      ]
    },
    {
      "cell_type": "markdown",
      "source": [
        "Se observa que la fecha date está en tipo \"object\""
      ],
      "metadata": {
        "id": "wNQohPryx2Te"
      }
    },
    {
      "cell_type": "code",
      "source": [
        "# Convertir date en fecha con formato datetime64\n",
        "df_vac['date'] = pd.to_datetime(df_vac['date'])\n",
        "df_vac.info()"
      ],
      "metadata": {
        "colab": {
          "base_uri": "https://localhost:8080/"
        },
        "id": "MZnqHY_XxW3T",
        "outputId": "6522421c-c89f-4e14-fa61-bc1d71cb41d5"
      },
      "execution_count": 84,
      "outputs": [
        {
          "output_type": "stream",
          "name": "stdout",
          "text": [
            "<class 'pandas.core.frame.DataFrame'>\n",
            "RangeIndex: 86512 entries, 0 to 86511\n",
            "Data columns (total 15 columns):\n",
            " #   Column                               Non-Null Count  Dtype         \n",
            "---  ------                               --------------  -----         \n",
            " 0   country                              86512 non-null  object        \n",
            " 1   iso_code                             86512 non-null  object        \n",
            " 2   date                                 86512 non-null  datetime64[ns]\n",
            " 3   total_vaccinations                   43607 non-null  float64       \n",
            " 4   people_vaccinated                    41294 non-null  float64       \n",
            " 5   people_fully_vaccinated              38802 non-null  float64       \n",
            " 6   daily_vaccinations_raw               35362 non-null  float64       \n",
            " 7   daily_vaccinations                   86213 non-null  float64       \n",
            " 8   total_vaccinations_per_hundred       43607 non-null  float64       \n",
            " 9   people_vaccinated_per_hundred        41294 non-null  float64       \n",
            " 10  people_fully_vaccinated_per_hundred  38802 non-null  float64       \n",
            " 11  daily_vaccinations_per_million       86213 non-null  float64       \n",
            " 12  vaccines                             86512 non-null  object        \n",
            " 13  source_name                          86512 non-null  object        \n",
            " 14  source_website                       86512 non-null  object        \n",
            "dtypes: datetime64[ns](1), float64(9), object(5)\n",
            "memory usage: 9.9+ MB\n"
          ]
        }
      ]
    },
    {
      "cell_type": "code",
      "source": [
        "# Estadísticas básicas\n",
        "df_vac.describe()"
      ],
      "metadata": {
        "colab": {
          "base_uri": "https://localhost:8080/",
          "height": 424
        },
        "id": "wDcNo55SVP3k",
        "outputId": "fcca64a5-d257-4d65-fe8b-9d17e4266e4c"
      },
      "execution_count": 5,
      "outputs": [
        {
          "output_type": "execute_result",
          "data": {
            "text/plain": [
              "                                date  total_vaccinations  people_vaccinated  \\\n",
              "count                          86512        4.360700e+04       4.129400e+04   \n",
              "mean   2021-09-01 17:09:45.907157504        4.592964e+07       1.770508e+07   \n",
              "min              2020-12-02 00:00:00        0.000000e+00       0.000000e+00   \n",
              "25%              2021-05-27 00:00:00        5.264100e+05       3.494642e+05   \n",
              "50%              2021-09-04 00:00:00        3.590096e+06       2.187310e+06   \n",
              "75%              2021-12-12 00:00:00        1.701230e+07       9.152520e+06   \n",
              "max              2022-03-29 00:00:00        3.263129e+09       1.275541e+09   \n",
              "std                              NaN        2.246004e+08       7.078731e+07   \n",
              "\n",
              "       people_fully_vaccinated  daily_vaccinations_raw  daily_vaccinations  \\\n",
              "count             3.880200e+04            3.536200e+04        8.621300e+04   \n",
              "mean              1.413830e+07            2.705996e+05        1.313055e+05   \n",
              "min               1.000000e+00            0.000000e+00        0.000000e+00   \n",
              "25%               2.439622e+05            4.668000e+03        9.000000e+02   \n",
              "50%               1.722140e+06            2.530900e+04        7.343000e+03   \n",
              "75%               7.559870e+06            1.234925e+05        4.409800e+04   \n",
              "max               1.240777e+09            2.474100e+07        2.242429e+07   \n",
              "std               5.713920e+07            1.212427e+06        7.682388e+05   \n",
              "\n",
              "       total_vaccinations_per_hundred  people_vaccinated_per_hundred  \\\n",
              "count                    43607.000000                   41294.000000   \n",
              "mean                        80.188543                      40.927317   \n",
              "min                          0.000000                       0.000000   \n",
              "25%                         16.050000                      11.370000   \n",
              "50%                         67.520000                      41.435000   \n",
              "75%                        132.735000                      67.910000   \n",
              "max                        345.370000                     124.760000   \n",
              "std                         67.913577                      29.290759   \n",
              "\n",
              "       people_fully_vaccinated_per_hundred  daily_vaccinations_per_million  \n",
              "count                         38802.000000                    86213.000000  \n",
              "mean                             35.523243                     3257.049157  \n",
              "min                               0.000000                        0.000000  \n",
              "25%                               7.020000                      636.000000  \n",
              "50%                              31.750000                     2050.000000  \n",
              "75%                              62.080000                     4682.000000  \n",
              "max                             122.370000                   117497.000000  \n",
              "std                              28.376252                     3934.312440  "
            ],
            "text/html": [
              "\n",
              "  <div id=\"df-fdac810e-a4d2-4c46-99b2-f6b2bc9bd269\" class=\"colab-df-container\">\n",
              "    <div>\n",
              "<style scoped>\n",
              "    .dataframe tbody tr th:only-of-type {\n",
              "        vertical-align: middle;\n",
              "    }\n",
              "\n",
              "    .dataframe tbody tr th {\n",
              "        vertical-align: top;\n",
              "    }\n",
              "\n",
              "    .dataframe thead th {\n",
              "        text-align: right;\n",
              "    }\n",
              "</style>\n",
              "<table border=\"1\" class=\"dataframe\">\n",
              "  <thead>\n",
              "    <tr style=\"text-align: right;\">\n",
              "      <th></th>\n",
              "      <th>date</th>\n",
              "      <th>total_vaccinations</th>\n",
              "      <th>people_vaccinated</th>\n",
              "      <th>people_fully_vaccinated</th>\n",
              "      <th>daily_vaccinations_raw</th>\n",
              "      <th>daily_vaccinations</th>\n",
              "      <th>total_vaccinations_per_hundred</th>\n",
              "      <th>people_vaccinated_per_hundred</th>\n",
              "      <th>people_fully_vaccinated_per_hundred</th>\n",
              "      <th>daily_vaccinations_per_million</th>\n",
              "    </tr>\n",
              "  </thead>\n",
              "  <tbody>\n",
              "    <tr>\n",
              "      <th>count</th>\n",
              "      <td>86512</td>\n",
              "      <td>4.360700e+04</td>\n",
              "      <td>4.129400e+04</td>\n",
              "      <td>3.880200e+04</td>\n",
              "      <td>3.536200e+04</td>\n",
              "      <td>8.621300e+04</td>\n",
              "      <td>43607.000000</td>\n",
              "      <td>41294.000000</td>\n",
              "      <td>38802.000000</td>\n",
              "      <td>86213.000000</td>\n",
              "    </tr>\n",
              "    <tr>\n",
              "      <th>mean</th>\n",
              "      <td>2021-09-01 17:09:45.907157504</td>\n",
              "      <td>4.592964e+07</td>\n",
              "      <td>1.770508e+07</td>\n",
              "      <td>1.413830e+07</td>\n",
              "      <td>2.705996e+05</td>\n",
              "      <td>1.313055e+05</td>\n",
              "      <td>80.188543</td>\n",
              "      <td>40.927317</td>\n",
              "      <td>35.523243</td>\n",
              "      <td>3257.049157</td>\n",
              "    </tr>\n",
              "    <tr>\n",
              "      <th>min</th>\n",
              "      <td>2020-12-02 00:00:00</td>\n",
              "      <td>0.000000e+00</td>\n",
              "      <td>0.000000e+00</td>\n",
              "      <td>1.000000e+00</td>\n",
              "      <td>0.000000e+00</td>\n",
              "      <td>0.000000e+00</td>\n",
              "      <td>0.000000</td>\n",
              "      <td>0.000000</td>\n",
              "      <td>0.000000</td>\n",
              "      <td>0.000000</td>\n",
              "    </tr>\n",
              "    <tr>\n",
              "      <th>25%</th>\n",
              "      <td>2021-05-27 00:00:00</td>\n",
              "      <td>5.264100e+05</td>\n",
              "      <td>3.494642e+05</td>\n",
              "      <td>2.439622e+05</td>\n",
              "      <td>4.668000e+03</td>\n",
              "      <td>9.000000e+02</td>\n",
              "      <td>16.050000</td>\n",
              "      <td>11.370000</td>\n",
              "      <td>7.020000</td>\n",
              "      <td>636.000000</td>\n",
              "    </tr>\n",
              "    <tr>\n",
              "      <th>50%</th>\n",
              "      <td>2021-09-04 00:00:00</td>\n",
              "      <td>3.590096e+06</td>\n",
              "      <td>2.187310e+06</td>\n",
              "      <td>1.722140e+06</td>\n",
              "      <td>2.530900e+04</td>\n",
              "      <td>7.343000e+03</td>\n",
              "      <td>67.520000</td>\n",
              "      <td>41.435000</td>\n",
              "      <td>31.750000</td>\n",
              "      <td>2050.000000</td>\n",
              "    </tr>\n",
              "    <tr>\n",
              "      <th>75%</th>\n",
              "      <td>2021-12-12 00:00:00</td>\n",
              "      <td>1.701230e+07</td>\n",
              "      <td>9.152520e+06</td>\n",
              "      <td>7.559870e+06</td>\n",
              "      <td>1.234925e+05</td>\n",
              "      <td>4.409800e+04</td>\n",
              "      <td>132.735000</td>\n",
              "      <td>67.910000</td>\n",
              "      <td>62.080000</td>\n",
              "      <td>4682.000000</td>\n",
              "    </tr>\n",
              "    <tr>\n",
              "      <th>max</th>\n",
              "      <td>2022-03-29 00:00:00</td>\n",
              "      <td>3.263129e+09</td>\n",
              "      <td>1.275541e+09</td>\n",
              "      <td>1.240777e+09</td>\n",
              "      <td>2.474100e+07</td>\n",
              "      <td>2.242429e+07</td>\n",
              "      <td>345.370000</td>\n",
              "      <td>124.760000</td>\n",
              "      <td>122.370000</td>\n",
              "      <td>117497.000000</td>\n",
              "    </tr>\n",
              "    <tr>\n",
              "      <th>std</th>\n",
              "      <td>NaN</td>\n",
              "      <td>2.246004e+08</td>\n",
              "      <td>7.078731e+07</td>\n",
              "      <td>5.713920e+07</td>\n",
              "      <td>1.212427e+06</td>\n",
              "      <td>7.682388e+05</td>\n",
              "      <td>67.913577</td>\n",
              "      <td>29.290759</td>\n",
              "      <td>28.376252</td>\n",
              "      <td>3934.312440</td>\n",
              "    </tr>\n",
              "  </tbody>\n",
              "</table>\n",
              "</div>\n",
              "    <div class=\"colab-df-buttons\">\n",
              "\n",
              "  <div class=\"colab-df-container\">\n",
              "    <button class=\"colab-df-convert\" onclick=\"convertToInteractive('df-fdac810e-a4d2-4c46-99b2-f6b2bc9bd269')\"\n",
              "            title=\"Convert this dataframe to an interactive table.\"\n",
              "            style=\"display:none;\">\n",
              "\n",
              "  <svg xmlns=\"http://www.w3.org/2000/svg\" height=\"24px\" viewBox=\"0 -960 960 960\">\n",
              "    <path d=\"M120-120v-720h720v720H120Zm60-500h600v-160H180v160Zm220 220h160v-160H400v160Zm0 220h160v-160H400v160ZM180-400h160v-160H180v160Zm440 0h160v-160H620v160ZM180-180h160v-160H180v160Zm440 0h160v-160H620v160Z\"/>\n",
              "  </svg>\n",
              "    </button>\n",
              "\n",
              "  <style>\n",
              "    .colab-df-container {\n",
              "      display:flex;\n",
              "      gap: 12px;\n",
              "    }\n",
              "\n",
              "    .colab-df-convert {\n",
              "      background-color: #E8F0FE;\n",
              "      border: none;\n",
              "      border-radius: 50%;\n",
              "      cursor: pointer;\n",
              "      display: none;\n",
              "      fill: #1967D2;\n",
              "      height: 32px;\n",
              "      padding: 0 0 0 0;\n",
              "      width: 32px;\n",
              "    }\n",
              "\n",
              "    .colab-df-convert:hover {\n",
              "      background-color: #E2EBFA;\n",
              "      box-shadow: 0px 1px 2px rgba(60, 64, 67, 0.3), 0px 1px 3px 1px rgba(60, 64, 67, 0.15);\n",
              "      fill: #174EA6;\n",
              "    }\n",
              "\n",
              "    .colab-df-buttons div {\n",
              "      margin-bottom: 4px;\n",
              "    }\n",
              "\n",
              "    [theme=dark] .colab-df-convert {\n",
              "      background-color: #3B4455;\n",
              "      fill: #D2E3FC;\n",
              "    }\n",
              "\n",
              "    [theme=dark] .colab-df-convert:hover {\n",
              "      background-color: #434B5C;\n",
              "      box-shadow: 0px 1px 3px 1px rgba(0, 0, 0, 0.15);\n",
              "      filter: drop-shadow(0px 1px 2px rgba(0, 0, 0, 0.3));\n",
              "      fill: #FFFFFF;\n",
              "    }\n",
              "  </style>\n",
              "\n",
              "    <script>\n",
              "      const buttonEl =\n",
              "        document.querySelector('#df-fdac810e-a4d2-4c46-99b2-f6b2bc9bd269 button.colab-df-convert');\n",
              "      buttonEl.style.display =\n",
              "        google.colab.kernel.accessAllowed ? 'block' : 'none';\n",
              "\n",
              "      async function convertToInteractive(key) {\n",
              "        const element = document.querySelector('#df-fdac810e-a4d2-4c46-99b2-f6b2bc9bd269');\n",
              "        const dataTable =\n",
              "          await google.colab.kernel.invokeFunction('convertToInteractive',\n",
              "                                                    [key], {});\n",
              "        if (!dataTable) return;\n",
              "\n",
              "        const docLinkHtml = 'Like what you see? Visit the ' +\n",
              "          '<a target=\"_blank\" href=https://colab.research.google.com/notebooks/data_table.ipynb>data table notebook</a>'\n",
              "          + ' to learn more about interactive tables.';\n",
              "        element.innerHTML = '';\n",
              "        dataTable['output_type'] = 'display_data';\n",
              "        await google.colab.output.renderOutput(dataTable, element);\n",
              "        const docLink = document.createElement('div');\n",
              "        docLink.innerHTML = docLinkHtml;\n",
              "        element.appendChild(docLink);\n",
              "      }\n",
              "    </script>\n",
              "  </div>\n",
              "\n",
              "\n",
              "<div id=\"df-c0f62833-1b54-46f4-b410-6d2225b1fd4e\">\n",
              "  <button class=\"colab-df-quickchart\" onclick=\"quickchart('df-c0f62833-1b54-46f4-b410-6d2225b1fd4e')\"\n",
              "            title=\"Suggest charts\"\n",
              "            style=\"display:none;\">\n",
              "\n",
              "<svg xmlns=\"http://www.w3.org/2000/svg\" height=\"24px\"viewBox=\"0 0 24 24\"\n",
              "     width=\"24px\">\n",
              "    <g>\n",
              "        <path d=\"M19 3H5c-1.1 0-2 .9-2 2v14c0 1.1.9 2 2 2h14c1.1 0 2-.9 2-2V5c0-1.1-.9-2-2-2zM9 17H7v-7h2v7zm4 0h-2V7h2v10zm4 0h-2v-4h2v4z\"/>\n",
              "    </g>\n",
              "</svg>\n",
              "  </button>\n",
              "\n",
              "<style>\n",
              "  .colab-df-quickchart {\n",
              "      --bg-color: #E8F0FE;\n",
              "      --fill-color: #1967D2;\n",
              "      --hover-bg-color: #E2EBFA;\n",
              "      --hover-fill-color: #174EA6;\n",
              "      --disabled-fill-color: #AAA;\n",
              "      --disabled-bg-color: #DDD;\n",
              "  }\n",
              "\n",
              "  [theme=dark] .colab-df-quickchart {\n",
              "      --bg-color: #3B4455;\n",
              "      --fill-color: #D2E3FC;\n",
              "      --hover-bg-color: #434B5C;\n",
              "      --hover-fill-color: #FFFFFF;\n",
              "      --disabled-bg-color: #3B4455;\n",
              "      --disabled-fill-color: #666;\n",
              "  }\n",
              "\n",
              "  .colab-df-quickchart {\n",
              "    background-color: var(--bg-color);\n",
              "    border: none;\n",
              "    border-radius: 50%;\n",
              "    cursor: pointer;\n",
              "    display: none;\n",
              "    fill: var(--fill-color);\n",
              "    height: 32px;\n",
              "    padding: 0;\n",
              "    width: 32px;\n",
              "  }\n",
              "\n",
              "  .colab-df-quickchart:hover {\n",
              "    background-color: var(--hover-bg-color);\n",
              "    box-shadow: 0 1px 2px rgba(60, 64, 67, 0.3), 0 1px 3px 1px rgba(60, 64, 67, 0.15);\n",
              "    fill: var(--button-hover-fill-color);\n",
              "  }\n",
              "\n",
              "  .colab-df-quickchart-complete:disabled,\n",
              "  .colab-df-quickchart-complete:disabled:hover {\n",
              "    background-color: var(--disabled-bg-color);\n",
              "    fill: var(--disabled-fill-color);\n",
              "    box-shadow: none;\n",
              "  }\n",
              "\n",
              "  .colab-df-spinner {\n",
              "    border: 2px solid var(--fill-color);\n",
              "    border-color: transparent;\n",
              "    border-bottom-color: var(--fill-color);\n",
              "    animation:\n",
              "      spin 1s steps(1) infinite;\n",
              "  }\n",
              "\n",
              "  @keyframes spin {\n",
              "    0% {\n",
              "      border-color: transparent;\n",
              "      border-bottom-color: var(--fill-color);\n",
              "      border-left-color: var(--fill-color);\n",
              "    }\n",
              "    20% {\n",
              "      border-color: transparent;\n",
              "      border-left-color: var(--fill-color);\n",
              "      border-top-color: var(--fill-color);\n",
              "    }\n",
              "    30% {\n",
              "      border-color: transparent;\n",
              "      border-left-color: var(--fill-color);\n",
              "      border-top-color: var(--fill-color);\n",
              "      border-right-color: var(--fill-color);\n",
              "    }\n",
              "    40% {\n",
              "      border-color: transparent;\n",
              "      border-right-color: var(--fill-color);\n",
              "      border-top-color: var(--fill-color);\n",
              "    }\n",
              "    60% {\n",
              "      border-color: transparent;\n",
              "      border-right-color: var(--fill-color);\n",
              "    }\n",
              "    80% {\n",
              "      border-color: transparent;\n",
              "      border-right-color: var(--fill-color);\n",
              "      border-bottom-color: var(--fill-color);\n",
              "    }\n",
              "    90% {\n",
              "      border-color: transparent;\n",
              "      border-bottom-color: var(--fill-color);\n",
              "    }\n",
              "  }\n",
              "</style>\n",
              "\n",
              "  <script>\n",
              "    async function quickchart(key) {\n",
              "      const quickchartButtonEl =\n",
              "        document.querySelector('#' + key + ' button');\n",
              "      quickchartButtonEl.disabled = true;  // To prevent multiple clicks.\n",
              "      quickchartButtonEl.classList.add('colab-df-spinner');\n",
              "      try {\n",
              "        const charts = await google.colab.kernel.invokeFunction(\n",
              "            'suggestCharts', [key], {});\n",
              "      } catch (error) {\n",
              "        console.error('Error during call to suggestCharts:', error);\n",
              "      }\n",
              "      quickchartButtonEl.classList.remove('colab-df-spinner');\n",
              "      quickchartButtonEl.classList.add('colab-df-quickchart-complete');\n",
              "    }\n",
              "    (() => {\n",
              "      let quickchartButtonEl =\n",
              "        document.querySelector('#df-c0f62833-1b54-46f4-b410-6d2225b1fd4e button');\n",
              "      quickchartButtonEl.style.display =\n",
              "        google.colab.kernel.accessAllowed ? 'block' : 'none';\n",
              "    })();\n",
              "  </script>\n",
              "</div>\n",
              "\n",
              "    </div>\n",
              "  </div>\n"
            ],
            "application/vnd.google.colaboratory.intrinsic+json": {
              "type": "dataframe",
              "summary": "{\n  \"name\": \"df_vac\",\n  \"rows\": 8,\n  \"fields\": [\n    {\n      \"column\": \"date\",\n      \"properties\": {\n        \"dtype\": \"date\",\n        \"min\": \"1970-01-01 00:00:00.000086512\",\n        \"max\": \"2022-03-29 00:00:00\",\n        \"num_unique_values\": 7,\n        \"samples\": [\n          \"86512\",\n          \"2021-09-01 17:09:45.907157504\",\n          \"2021-12-12 00:00:00\"\n        ],\n        \"semantic_type\": \"\",\n        \"description\": \"\"\n      }\n    },\n    {\n      \"column\": \"total_vaccinations\",\n      \"properties\": {\n        \"dtype\": \"number\",\n        \"std\": 1141506836.6423926,\n        \"min\": 0.0,\n        \"max\": 3263129000.0,\n        \"num_unique_values\": 8,\n        \"samples\": [\n          45929644.638727725,\n          17012303.5,\n          43607.0\n        ],\n        \"semantic_type\": \"\",\n        \"description\": \"\"\n      }\n    },\n    {\n      \"column\": \"people_vaccinated\",\n      \"properties\": {\n        \"dtype\": \"number\",\n        \"std\": 446546592.8948987,\n        \"min\": 0.0,\n        \"max\": 1275541000.0,\n        \"num_unique_values\": 8,\n        \"samples\": [\n          17705077.78979997,\n          9152519.75,\n          41294.0\n        ],\n        \"semantic_type\": \"\",\n        \"description\": \"\"\n      }\n    },\n    {\n      \"column\": \"people_fully_vaccinated\",\n      \"properties\": {\n        \"dtype\": \"number\",\n        \"std\": 435023453.05179375,\n        \"min\": 1.0,\n        \"max\": 1240777000.0,\n        \"num_unique_values\": 8,\n        \"samples\": [\n          14138299.848152157,\n          7559869.5,\n          38802.0\n        ],\n        \"semantic_type\": \"\",\n        \"description\": \"\"\n      }\n    },\n    {\n      \"column\": \"daily_vaccinations_raw\",\n      \"properties\": {\n        \"dtype\": \"number\",\n        \"std\": 8672391.046524389,\n        \"min\": 0.0,\n        \"max\": 24741000.0,\n        \"num_unique_values\": 8,\n        \"samples\": [\n          270599.5782478367,\n          123492.5,\n          35362.0\n        ],\n        \"semantic_type\": \"\",\n        \"description\": \"\"\n      }\n    },\n    {\n      \"column\": \"daily_vaccinations\",\n      \"properties\": {\n        \"dtype\": \"number\",\n        \"std\": 7879947.717430809,\n        \"min\": 0.0,\n        \"max\": 22424286.0,\n        \"num_unique_values\": 8,\n        \"samples\": [\n          131305.48607518588,\n          44098.0,\n          86213.0\n        ],\n        \"semantic_type\": \"\",\n        \"description\": \"\"\n      }\n    },\n    {\n      \"column\": \"total_vaccinations_per_hundred\",\n      \"properties\": {\n        \"dtype\": \"number\",\n        \"std\": 15381.928707042822,\n        \"min\": 0.0,\n        \"max\": 43607.0,\n        \"num_unique_values\": 8,\n        \"samples\": [\n          80.18854312381039,\n          132.735,\n          43607.0\n        ],\n        \"semantic_type\": \"\",\n        \"description\": \"\"\n      }\n    },\n    {\n      \"column\": \"people_vaccinated_per_hundred\",\n      \"properties\": {\n        \"dtype\": \"number\",\n        \"std\": 14583.739341283585,\n        \"min\": 0.0,\n        \"max\": 41294.0,\n        \"num_unique_values\": 8,\n        \"samples\": [\n          40.92731728580423,\n          67.91,\n          41294.0\n        ],\n        \"semantic_type\": \"\",\n        \"description\": \"\"\n      }\n    },\n    {\n      \"column\": \"people_fully_vaccinated_per_hundred\",\n      \"properties\": {\n        \"dtype\": \"number\",\n        \"std\": 13704.129976762202,\n        \"min\": 0.0,\n        \"max\": 38802.0,\n        \"num_unique_values\": 8,\n        \"samples\": [\n          35.52324287407866,\n          62.08,\n          38802.0\n        ],\n        \"semantic_type\": \"\",\n        \"description\": \"\"\n      }\n    },\n    {\n      \"column\": \"daily_vaccinations_per_million\",\n      \"properties\": {\n        \"dtype\": \"number\",\n        \"std\": 46806.062496633174,\n        \"min\": 0.0,\n        \"max\": 117497.0,\n        \"num_unique_values\": 8,\n        \"samples\": [\n          3257.049157319662,\n          4682.0,\n          86213.0\n        ],\n        \"semantic_type\": \"\",\n        \"description\": \"\"\n      }\n    }\n  ]\n}"
            }
          },
          "metadata": {},
          "execution_count": 5
        }
      ]
    },
    {
      "cell_type": "markdown",
      "source": [
        "## c. Cantidad de vacunas aplicadas de cada compañía"
      ],
      "metadata": {
        "id": "oufuNo11Z39P"
      }
    },
    {
      "cell_type": "markdown",
      "source": [
        "Determinar la cantidad de vacunas aplicadas de cada compañía (con base en cómo lo reporta cada país en la columna vaccines, en otras palabras, agrupe por vaccines y realice la sumatoria)."
      ],
      "metadata": {
        "id": "WxZggQ2Jnboe"
      }
    },
    {
      "cell_type": "code",
      "source": [
        "# Cantidad de vacunas aplicadas de cada compañía, con daily_vaccinations en millones.\n",
        "\n",
        "# Agrupar por compañía con vacunas en millones\n",
        "vacunas_compañía = df_vac.groupby('vaccines')['daily_vaccinations'].sum()/1_000_000\n",
        "\n",
        "# Ordenar de mayor a menor\n",
        "vacunas_compañía.sort_values(ascending=False, inplace=True)\n",
        "\n",
        "# Imprimir resultados\n",
        "print('Vacunas aplicadas de cada compañía (en millones)')\n",
        "print(vacunas_compañía)"
      ],
      "metadata": {
        "colab": {
          "base_uri": "https://localhost:8080/"
        },
        "id": "zBOPq1dWV6s4",
        "outputId": "d480481c-378b-4600-ac52-841ffd3b5e61"
      },
      "execution_count": 32,
      "outputs": [
        {
          "output_type": "stream",
          "name": "stdout",
          "text": [
            "Vacunas aplicadas de cada compañía (en millones)\n",
            "vaccines\n",
            "CanSino, Sinopharm/Beijing, Sinopharm/Wuhan, Sinovac, ZF2001              3250.342496\n",
            "Covaxin, Oxford/AstraZeneca, Sputnik V                                    1829.085487\n",
            "Moderna, Oxford/AstraZeneca, Pfizer/BioNTech                               620.164884\n",
            "Johnson&Johnson, Moderna, Pfizer/BioNTech                                  589.020809\n",
            "Johnson&Johnson, Moderna, Novavax, Oxford/AstraZeneca, Pfizer/BioNTech     505.216912\n",
            "                                                                             ...     \n",
            "Johnson&Johnson, Moderna                                                     0.248463\n",
            "Oxford/AstraZeneca, Sinopharm/Beijing, Sputnik V                             0.200773\n",
            "Oxford/AstraZeneca, Pfizer/BioNTech, Sputnik V                               0.127997\n",
            "Moderna                                                                      0.089911\n",
            "Pfizer/BioNTech, Sputnik V                                                   0.068643\n",
            "Name: daily_vaccinations, Length: 84, dtype: float64\n"
          ]
        }
      ]
    },
    {
      "cell_type": "markdown",
      "source": [
        "## d. Cantidad de vacunas aplicadas en todo el mundo"
      ],
      "metadata": {
        "id": "C13HIdjEgl8Q"
      }
    },
    {
      "cell_type": "markdown",
      "source": [
        "Obtener la cantidad de vacunas aplicadas en todo el mundo."
      ],
      "metadata": {
        "id": "nf6GZ48dnn5d"
      }
    },
    {
      "cell_type": "code",
      "source": [
        "# Cantidad de vacunas aplicadas en todo el mundo\n",
        "\n",
        "# Obtener sumatoria de vacunas\n",
        "vac_mundo = df_vac['daily_vaccinations'].sum()\n",
        "\n",
        "# Imprimir resultados en una oración\n",
        "print(f'En el mundo, se aplicaron un total de {vac_mundo:,.0f} vacunas.')"
      ],
      "metadata": {
        "colab": {
          "base_uri": "https://localhost:8080/"
        },
        "id": "T-KOVojKaUEN",
        "outputId": "a0b7f360-d8d5-4b79-c321-12970b4cb7f1"
      },
      "execution_count": 85,
      "outputs": [
        {
          "output_type": "stream",
          "name": "stdout",
          "text": [
            "En el mundo, se aplicaron un total de 11,320,239,871 vacunas.\n"
          ]
        }
      ]
    },
    {
      "cell_type": "markdown",
      "source": [
        "## e. Promedio de vacunas aplicadas por país"
      ],
      "metadata": {
        "id": "ATeOBpQ-icKf"
      }
    },
    {
      "cell_type": "markdown",
      "source": [
        "Calcular el promedio de vacunas aplicadas por país."
      ],
      "metadata": {
        "id": "Bjl0fP5Hnvkg"
      }
    },
    {
      "cell_type": "code",
      "source": [
        "# Promedio de vacunas aplicadas por país\n",
        "\n",
        "# Agrupar por país con vacunas en millones\n",
        "vacunas_pais = df_vac.groupby('country')['daily_vaccinations'].mean()/1_000_000\n",
        "\n",
        "# Ordenar de mayor a menor\n",
        "vacunas_pais.sort_values(ascending=False, inplace=True)\n",
        "\n",
        "# Imprimir resultados\n",
        "print('Promedio de vacunas aplicadas por país (en millones)')\n",
        "print(vacunas_pais)"
      ],
      "metadata": {
        "colab": {
          "base_uri": "https://localhost:8080/"
        },
        "id": "lzO17Bhyhd79",
        "outputId": "dbcb2b68-4f23-4154-8298-fdd07f991511"
      },
      "execution_count": 48,
      "outputs": [
        {
          "output_type": "stream",
          "name": "stdout",
          "text": [
            "Promedio de vacunas aplicadas por país (en millones)\n",
            "country\n",
            "China                6.930368e+00\n",
            "India                4.175994e+00\n",
            "United States        1.191727e+00\n",
            "Brazil               9.435287e-01\n",
            "Indonesia            8.462893e-01\n",
            "                         ...     \n",
            "Wallis and Futuna    3.388649e-05\n",
            "Tokelau              1.739823e-05\n",
            "Niue                 1.631698e-05\n",
            "Montserrat           1.053659e-05\n",
            "Pitcairn             5.119048e-07\n",
            "Name: daily_vaccinations, Length: 223, dtype: float64\n"
          ]
        }
      ]
    },
    {
      "cell_type": "markdown",
      "source": [
        "## f. Vacunas aplicadas el 29/01/21 en todo el mundo."
      ],
      "metadata": {
        "id": "PIcFUQ_QkshH"
      }
    },
    {
      "cell_type": "markdown",
      "source": [
        "Determinar la cantidad de vacunas aplicadas el día 29/01/21 en todo el mundo."
      ],
      "metadata": {
        "id": "WcgKLZvMoBC5"
      }
    },
    {
      "cell_type": "code",
      "source": [
        "# Vacunas aplicadas el día 29/01/21 en todo el mundo\n",
        "\n",
        "# Determinar fecha requerida\n",
        "df_vac_29ene21 = df_vac[df_vac['date'] == '2021-01-29']\n",
        "\n",
        "# Calcular sumatoria de vacunas del día\n",
        "total_vac_29ene21 = df_vac_29ene21['daily_vaccinations'].sum()\n",
        "\n",
        "# Imrprimir resultados\n",
        "print(f\"El 29/01/2021 se aplicaron un total de {total_vac_29ene21:,.0f} vacunas en el mundo.\")"
      ],
      "metadata": {
        "colab": {
          "base_uri": "https://localhost:8080/"
        },
        "id": "D5MILKObipwi",
        "outputId": "2dcefe64-330b-434a-d698-daf8fa6df211"
      },
      "execution_count": 54,
      "outputs": [
        {
          "output_type": "stream",
          "name": "stdout",
          "text": [
            "El 29/01/2021 se aplicaron un total de 4,884,052 vacunas en el mundo.\n"
          ]
        }
      ]
    },
    {
      "cell_type": "markdown",
      "source": [
        "## g. Nuevo Dataframe denominado conDiferencias"
      ],
      "metadata": {
        "id": "lOdiXq6Nm_68"
      }
    },
    {
      "cell_type": "markdown",
      "source": [
        "Crear un dataframe nuevo denominado conDiferencias que contenga los datos originales y una columna derivada (diferencias) con las diferencias de aplicación entre las columnas daily_vaccionations y daily_vaccionations_raw."
      ],
      "metadata": {
        "id": "MmMnhR1LoJRb"
      }
    },
    {
      "cell_type": "code",
      "source": [
        "# Nuevo DataFrame denominado conDiferencias\n",
        "conDiferencias = df_vac.copy()\n",
        "\n",
        "# Crear columna con las diferencias\n",
        "conDiferencias['dif_vacin'] = conDiferencias['daily_vaccinations'] - conDiferencias['daily_vaccinations_raw']\n",
        "\n",
        "# Imprimir nuevo DataFrame\n",
        "print(f'El dataframe conCantidad contiene {conDiferencias.shape[0]} filas y {conDiferencias.shape[1]} columnas.')\n",
        "print(conDiferencias.head(3))"
      ],
      "metadata": {
        "colab": {
          "base_uri": "https://localhost:8080/"
        },
        "id": "lk8qBSxdlWAL",
        "outputId": "33ba2407-bf71-4ed1-ecb4-b886b1ec1add"
      },
      "execution_count": 75,
      "outputs": [
        {
          "output_type": "stream",
          "name": "stdout",
          "text": [
            "El dataframe conCantidad contiene 86512 filas y 16 columnas.\n",
            "       country iso_code       date  total_vaccinations  people_vaccinated  \\\n",
            "0  Afghanistan      AFG 2021-02-22                 0.0                0.0   \n",
            "1  Afghanistan      AFG 2021-02-23                 NaN                NaN   \n",
            "2  Afghanistan      AFG 2021-02-24                 NaN                NaN   \n",
            "\n",
            "   people_fully_vaccinated  daily_vaccinations_raw  daily_vaccinations  \\\n",
            "0                      NaN                     NaN                 NaN   \n",
            "1                      NaN                     NaN              1367.0   \n",
            "2                      NaN                     NaN              1367.0   \n",
            "\n",
            "   total_vaccinations_per_hundred  people_vaccinated_per_hundred  \\\n",
            "0                             0.0                            0.0   \n",
            "1                             NaN                            NaN   \n",
            "2                             NaN                            NaN   \n",
            "\n",
            "   people_fully_vaccinated_per_hundred  daily_vaccinations_per_million  \\\n",
            "0                                  NaN                             NaN   \n",
            "1                                  NaN                            34.0   \n",
            "2                                  NaN                            34.0   \n",
            "\n",
            "                                            vaccines  \\\n",
            "0  Johnson&Johnson, Oxford/AstraZeneca, Pfizer/Bi...   \n",
            "1  Johnson&Johnson, Oxford/AstraZeneca, Pfizer/Bi...   \n",
            "2  Johnson&Johnson, Oxford/AstraZeneca, Pfizer/Bi...   \n",
            "\n",
            "                 source_name            source_website  dif_vacin  \n",
            "0  World Health Organization  https://covid19.who.int/        NaN  \n",
            "1  World Health Organization  https://covid19.who.int/        NaN  \n",
            "2  World Health Organization  https://covid19.who.int/        NaN  \n"
          ]
        }
      ]
    },
    {
      "cell_type": "markdown",
      "source": [
        "## h. Periodo de tiempo entre fechas (reciente y antigua)"
      ],
      "metadata": {
        "id": "C_S-tScXpoK1"
      }
    },
    {
      "cell_type": "markdown",
      "source": [
        "Obtener el periodo de tiempo entre el registro con fecha más reciente y el registro con fecha más antigua."
      ],
      "metadata": {
        "id": "fFPA6N6apxZ_"
      }
    },
    {
      "cell_type": "code",
      "source": [
        "# Obtener el periodo de tiempo entre el registro con fecha más reciente y el registro con fecha más antigua.\n",
        "\n",
        "# Restar fecha máxima menos fecha mínima\n",
        "periodo_fechas = df_vac['date'].max() - df_vac['date'].min()\n",
        "\n",
        "# Imprimir resultados en oración\n",
        "print(f'El periodo de tiempo entre el registro más reciente y el más antiguo es de {periodo_fechas}.')"
      ],
      "metadata": {
        "colab": {
          "base_uri": "https://localhost:8080/"
        },
        "id": "A9DXOsrtpKa_",
        "outputId": "7e233ea3-1b44-4057-8611-c740c406d7c7"
      },
      "execution_count": 65,
      "outputs": [
        {
          "output_type": "stream",
          "name": "stdout",
          "text": [
            "El periodo de tiempo entre el registro más reciente y el más antiguo es de 482 days 00:00:00.\n"
          ]
        }
      ]
    },
    {
      "cell_type": "markdown",
      "source": [
        "## i. Nuevo dataframe denominado conCantidad"
      ],
      "metadata": {
        "id": "BQhFcfPsqpXr"
      }
    },
    {
      "cell_type": "markdown",
      "source": [
        "Crear un dataframe nuevo denominado conCantidad que contenga los datos originales y una columna derivada (canVac) con la cantidad de vacunas utilizadas cada día (usar la columna vaccines y separar por el carácter , )."
      ],
      "metadata": {
        "id": "L0RiZNn3q6us"
      }
    },
    {
      "cell_type": "code",
      "source": [
        "# Cantidad de vacunas por día.\n",
        "\n",
        "# Nuevo DataFrame denominado conDiferencias\n",
        "conCantidad = df_vac.copy()\n",
        "\n",
        "# Crear columna derivada\n",
        "conCantidad['canVac'] = conCantidad['vaccines'].str.split(', ').str.len()\n",
        "\n",
        "# Mostrar nuevo df\n",
        "print(f'El dataframe conCantidad contiene {conCantidad.shape[0]} filas y {conCantidad.shape[1]} columnas.')\n",
        "print(conCantidad.head(3))"
      ],
      "metadata": {
        "colab": {
          "base_uri": "https://localhost:8080/"
        },
        "id": "_UOAo8FgqaSJ",
        "outputId": "84b59873-b9a2-4c2f-bbbd-52bdecd96671"
      },
      "execution_count": 74,
      "outputs": [
        {
          "output_type": "stream",
          "name": "stdout",
          "text": [
            "El dataframe conCantidad contiene 86512 filas y 16 columnas.\n",
            "       country iso_code       date  total_vaccinations  people_vaccinated  \\\n",
            "0  Afghanistan      AFG 2021-02-22                 0.0                0.0   \n",
            "1  Afghanistan      AFG 2021-02-23                 NaN                NaN   \n",
            "2  Afghanistan      AFG 2021-02-24                 NaN                NaN   \n",
            "\n",
            "   people_fully_vaccinated  daily_vaccinations_raw  daily_vaccinations  \\\n",
            "0                      NaN                     NaN                 NaN   \n",
            "1                      NaN                     NaN              1367.0   \n",
            "2                      NaN                     NaN              1367.0   \n",
            "\n",
            "   total_vaccinations_per_hundred  people_vaccinated_per_hundred  \\\n",
            "0                             0.0                            0.0   \n",
            "1                             NaN                            NaN   \n",
            "2                             NaN                            NaN   \n",
            "\n",
            "   people_fully_vaccinated_per_hundred  daily_vaccinations_per_million  \\\n",
            "0                                  NaN                             NaN   \n",
            "1                                  NaN                            34.0   \n",
            "2                                  NaN                            34.0   \n",
            "\n",
            "                                            vaccines  \\\n",
            "0  Johnson&Johnson, Oxford/AstraZeneca, Pfizer/Bi...   \n",
            "1  Johnson&Johnson, Oxford/AstraZeneca, Pfizer/Bi...   \n",
            "2  Johnson&Johnson, Oxford/AstraZeneca, Pfizer/Bi...   \n",
            "\n",
            "                 source_name            source_website  canVac  \n",
            "0  World Health Organization  https://covid19.who.int/       4  \n",
            "1  World Health Organization  https://covid19.who.int/       4  \n",
            "2  World Health Organization  https://covid19.who.int/       4  \n"
          ]
        }
      ]
    },
    {
      "cell_type": "markdown",
      "source": [
        "## j. Nuevo dataframe antes20Dic"
      ],
      "metadata": {
        "id": "fUP40iHOsCm4"
      }
    },
    {
      "cell_type": "markdown",
      "source": [
        "Generar un dataframe denominado antes20 con todos los registros que se hayan realizado antes del 20 de diciembre de 2020."
      ],
      "metadata": {
        "id": "zZ-FlHnxsFuK"
      }
    },
    {
      "cell_type": "code",
      "source": [
        "# Generar un dataframe denominado antes20 con todos los registros que se hayan realizado antes del 20 de diciembre de 2020.\n",
        "\n",
        "# Nuevo DataFrame denominado antes20\n",
        "antes20 = df_vac[df_vac['date'] < '2020-12-20']\n",
        "\n",
        "# Imprimir resultados\n",
        "print(f'El dataframe antes20 contiene {antes20.shape[0]} filas y {antes20.shape[1]} columnas.')\n",
        "print(antes20.head(3))"
      ],
      "metadata": {
        "colab": {
          "base_uri": "https://localhost:8080/"
        },
        "id": "_jrUbcxjrY8E",
        "outputId": "34710dbc-dc65-454d-f166-7f2090d5b556"
      },
      "execution_count": 73,
      "outputs": [
        {
          "output_type": "stream",
          "name": "stdout",
          "text": [
            "El dataframe antes20 contiene 70 filas y 15 columnas.\n",
            "      country iso_code       date  total_vaccinations  people_vaccinated  \\\n",
            "13403  Canada      CAN 2020-12-14                 5.0                5.0   \n",
            "13404  Canada      CAN 2020-12-15               727.0              727.0   \n",
            "13405  Canada      CAN 2020-12-16              3025.0             3025.0   \n",
            "\n",
            "       people_fully_vaccinated  daily_vaccinations_raw  daily_vaccinations  \\\n",
            "13403                      NaN                     NaN                 NaN   \n",
            "13404                      NaN                   722.0               722.0   \n",
            "13405                      NaN                  2298.0              1510.0   \n",
            "\n",
            "       total_vaccinations_per_hundred  people_vaccinated_per_hundred  \\\n",
            "13403                            0.00                           0.00   \n",
            "13404                            0.00                           0.00   \n",
            "13405                            0.01                           0.01   \n",
            "\n",
            "       people_fully_vaccinated_per_hundred  daily_vaccinations_per_million  \\\n",
            "13403                                  NaN                             NaN   \n",
            "13404                                  NaN                            19.0   \n",
            "13405                                  NaN                            40.0   \n",
            "\n",
            "                                                vaccines  \\\n",
            "13403  Johnson&Johnson, Moderna, Oxford/AstraZeneca, ...   \n",
            "13404  Johnson&Johnson, Moderna, Oxford/AstraZeneca, ...   \n",
            "13405  Johnson&Johnson, Moderna, Oxford/AstraZeneca, ...   \n",
            "\n",
            "                                             source_name  \\\n",
            "13403  Official data from provinces via covid19tracke...   \n",
            "13404  Official data from provinces via covid19tracke...   \n",
            "13405  Official data from provinces via covid19tracke...   \n",
            "\n",
            "                                          source_website  \n",
            "13403  https://covid19tracker.ca/vaccinationtracker.html  \n",
            "13404  https://covid19tracker.ca/vaccinationtracker.html  \n",
            "13405  https://covid19tracker.ca/vaccinationtracker.html  \n"
          ]
        }
      ]
    },
    {
      "cell_type": "markdown",
      "source": [
        "## k. Nuevo dataframe pfizer"
      ],
      "metadata": {
        "id": "RGcddhastZM8"
      }
    },
    {
      "cell_type": "markdown",
      "source": [
        "Obtener un dataframe denominado pfizer con todos los registros donde se haya utilizado la vacuna Pfizer.  contains"
      ],
      "metadata": {
        "id": "_WNhF0nNtalF"
      }
    },
    {
      "cell_type": "code",
      "source": [
        "# Obtener un dataframe denominado pfizer con todos los registros donde se haya utilizado la vacuna Pfizer, utilizando contains\n",
        "\n",
        "# Nuevo DataFrame denominado pfizer\n",
        "pfizer = df_vac[df_vac['vaccines'].str.contains('Pfizer', case=False)]\n",
        "\n",
        "# Imprimir resultados\n",
        "print(f'El dataframe pfizer contiene {pfizer.shape[0]:,.0f} filas y {pfizer.shape[1]:,.0f} columnas.')\n",
        "print(pfizer.head(3))"
      ],
      "metadata": {
        "colab": {
          "base_uri": "https://localhost:8080/"
        },
        "id": "N4OQlAZZsXbg",
        "outputId": "4eb9674e-7ae4-4011-8bbf-7f8aecfc1e49"
      },
      "execution_count": 79,
      "outputs": [
        {
          "output_type": "stream",
          "name": "stdout",
          "text": [
            "El dataframe pfizer contiene 64,193 filas y 15 columnas.\n",
            "       country iso_code       date  total_vaccinations  people_vaccinated  \\\n",
            "0  Afghanistan      AFG 2021-02-22                 0.0                0.0   \n",
            "1  Afghanistan      AFG 2021-02-23                 NaN                NaN   \n",
            "2  Afghanistan      AFG 2021-02-24                 NaN                NaN   \n",
            "\n",
            "   people_fully_vaccinated  daily_vaccinations_raw  daily_vaccinations  \\\n",
            "0                      NaN                     NaN                 NaN   \n",
            "1                      NaN                     NaN              1367.0   \n",
            "2                      NaN                     NaN              1367.0   \n",
            "\n",
            "   total_vaccinations_per_hundred  people_vaccinated_per_hundred  \\\n",
            "0                             0.0                            0.0   \n",
            "1                             NaN                            NaN   \n",
            "2                             NaN                            NaN   \n",
            "\n",
            "   people_fully_vaccinated_per_hundred  daily_vaccinations_per_million  \\\n",
            "0                                  NaN                             NaN   \n",
            "1                                  NaN                            34.0   \n",
            "2                                  NaN                            34.0   \n",
            "\n",
            "                                            vaccines  \\\n",
            "0  Johnson&Johnson, Oxford/AstraZeneca, Pfizer/Bi...   \n",
            "1  Johnson&Johnson, Oxford/AstraZeneca, Pfizer/Bi...   \n",
            "2  Johnson&Johnson, Oxford/AstraZeneca, Pfizer/Bi...   \n",
            "\n",
            "                 source_name            source_website  \n",
            "0  World Health Organization  https://covid19.who.int/  \n",
            "1  World Health Organization  https://covid19.who.int/  \n",
            "2  World Health Organization  https://covid19.who.int/  \n"
          ]
        }
      ]
    },
    {
      "cell_type": "markdown",
      "source": [
        "## l. Almacenar los 4 nuevos dataframes en un Excel"
      ],
      "metadata": {
        "id": "k9gl9TSDuBQM"
      }
    },
    {
      "cell_type": "markdown",
      "source": [
        "Almacenar los dataframes generados (conDiferencias, conCantidad, antes20 y pfizer) en un archivo de Excel denominado resultadosReto.xlsx, donde cada dataframe ocupe una hoja diferente. Se recomienda ver la documentación de pd.ExcelWriter."
      ],
      "metadata": {
        "id": "4mTFVCe2uDrk"
      }
    },
    {
      "cell_type": "code",
      "source": [
        "# Almacenar los dataframes generados en un archivo de Excel denominado resultadosReto.xlsx\n",
        "\n",
        "# !pip install xlsxwriter\n",
        "\n",
        "# Establecer ruta donde se guardará el archivo Excel\n",
        "ruta_archivo_newdf = \"/content/drive/MyDrive/Colab Notebooks/1. Certificación Data Scientist/5. Panda y Numpy en Python/resultadosReto.xlsx\"\n",
        "\n",
        "# Guardar los DataFrames en diferentes hojas del archivo Excel\n",
        "with pd.ExcelWriter(ruta_archivo_newdf, engine='xlsxwriter') as writer:\n",
        "    conDiferencias.to_excel(writer, sheet_name='ConDiferencias', index=False)\n",
        "    conCantidad.to_excel(writer, sheet_name='ConCantidad', index=False)\n",
        "    antes20.to_excel(writer, sheet_name='Antes20', index=False)\n",
        "    pfizer.to_excel(writer, sheet_name='Pfizer', index=False)\n",
        "\n",
        "print(f\"Archivo guardado en: {ruta_archivo_newdf}\")\n"
      ],
      "metadata": {
        "colab": {
          "base_uri": "https://localhost:8080/"
        },
        "id": "8UysRdjWto_r",
        "outputId": "468027a1-822e-41b7-9f23-36f90bf2e073"
      },
      "execution_count": 83,
      "outputs": [
        {
          "output_type": "stream",
          "name": "stdout",
          "text": [
            "Archivo guardado en: /content/drive/MyDrive/Colab Notebooks/1. Certificación Data Scientist/5. Panda y Numpy en Python/resultadosReto.xlsx\n"
          ]
        }
      ]
    },
    {
      "cell_type": "code",
      "source": [],
      "metadata": {
        "id": "IpQN-Yuwupdj"
      },
      "execution_count": null,
      "outputs": []
    }
  ]
}